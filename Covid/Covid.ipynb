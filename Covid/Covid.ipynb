{
 "cells": [
  {
   "cell_type": "code",
   "execution_count": 1,
   "id": "f4517a3d",
   "metadata": {},
   "outputs": [],
   "source": [
    "import pandas as pd\n",
    "import numpy as np\n",
    "import matplotlib.pyplot as plt"
   ]
  },
  {
   "cell_type": "code",
   "execution_count": 2,
   "id": "1ca8b64d",
   "metadata": {},
   "outputs": [
    {
     "data": {
      "text/html": [
       "<div>\n",
       "<style scoped>\n",
       "    .dataframe tbody tr th:only-of-type {\n",
       "        vertical-align: middle;\n",
       "    }\n",
       "\n",
       "    .dataframe tbody tr th {\n",
       "        vertical-align: top;\n",
       "    }\n",
       "\n",
       "    .dataframe thead th {\n",
       "        text-align: right;\n",
       "    }\n",
       "</style>\n",
       "<table border=\"1\" class=\"dataframe\">\n",
       "  <thead>\n",
       "    <tr style=\"text-align: right;\">\n",
       "      <th></th>\n",
       "      <th>sex</th>\n",
       "      <th>patient_type</th>\n",
       "      <th>entry_date</th>\n",
       "      <th>date_symptoms</th>\n",
       "      <th>date_died</th>\n",
       "      <th>intubed</th>\n",
       "      <th>pneumonia</th>\n",
       "      <th>age</th>\n",
       "      <th>pregnancy</th>\n",
       "      <th>diabetes</th>\n",
       "      <th>...</th>\n",
       "      <th>hypertension</th>\n",
       "      <th>other_disease</th>\n",
       "      <th>cardiovascular</th>\n",
       "      <th>obesity</th>\n",
       "      <th>renal_chronic</th>\n",
       "      <th>tobacco</th>\n",
       "      <th>contact_other_covid</th>\n",
       "      <th>covid_res</th>\n",
       "      <th>icu</th>\n",
       "      <th>age_group</th>\n",
       "    </tr>\n",
       "    <tr>\n",
       "      <th>id</th>\n",
       "      <th></th>\n",
       "      <th></th>\n",
       "      <th></th>\n",
       "      <th></th>\n",
       "      <th></th>\n",
       "      <th></th>\n",
       "      <th></th>\n",
       "      <th></th>\n",
       "      <th></th>\n",
       "      <th></th>\n",
       "      <th></th>\n",
       "      <th></th>\n",
       "      <th></th>\n",
       "      <th></th>\n",
       "      <th></th>\n",
       "      <th></th>\n",
       "      <th></th>\n",
       "      <th></th>\n",
       "      <th></th>\n",
       "      <th></th>\n",
       "      <th></th>\n",
       "    </tr>\n",
       "  </thead>\n",
       "  <tbody>\n",
       "    <tr>\n",
       "      <th>16169f</th>\n",
       "      <td>Male</td>\n",
       "      <td>Outpatient</td>\n",
       "      <td>4/5/2020</td>\n",
       "      <td>2/5/2020</td>\n",
       "      <td>9999-99-99</td>\n",
       "      <td>Data Data missing</td>\n",
       "      <td>No</td>\n",
       "      <td>27</td>\n",
       "      <td>Data missing</td>\n",
       "      <td>No</td>\n",
       "      <td>...</td>\n",
       "      <td>No</td>\n",
       "      <td>No</td>\n",
       "      <td>No</td>\n",
       "      <td>No</td>\n",
       "      <td>No</td>\n",
       "      <td>No</td>\n",
       "      <td>No</td>\n",
       "      <td>Positive</td>\n",
       "      <td>Data missing</td>\n",
       "      <td>20-29</td>\n",
       "    </tr>\n",
       "    <tr>\n",
       "      <th>1009bf</th>\n",
       "      <td>Male</td>\n",
       "      <td>Outpatient</td>\n",
       "      <td>19-03-2020</td>\n",
       "      <td>17-03-2020</td>\n",
       "      <td>9999-99-99</td>\n",
       "      <td>Data missing</td>\n",
       "      <td>No</td>\n",
       "      <td>24</td>\n",
       "      <td>Data missing</td>\n",
       "      <td>No</td>\n",
       "      <td>...</td>\n",
       "      <td>No</td>\n",
       "      <td>No</td>\n",
       "      <td>No</td>\n",
       "      <td>No</td>\n",
       "      <td>No</td>\n",
       "      <td>No</td>\n",
       "      <td>Data missing</td>\n",
       "      <td>Positive</td>\n",
       "      <td>Data missing</td>\n",
       "      <td>20-29</td>\n",
       "    </tr>\n",
       "    <tr>\n",
       "      <th>167386</th>\n",
       "      <td>Female</td>\n",
       "      <td>Inpatient</td>\n",
       "      <td>6/4/2020</td>\n",
       "      <td>1/4/2020</td>\n",
       "      <td>9999-99-99</td>\n",
       "      <td>No</td>\n",
       "      <td>No</td>\n",
       "      <td>54</td>\n",
       "      <td>No</td>\n",
       "      <td>No</td>\n",
       "      <td>...</td>\n",
       "      <td>No</td>\n",
       "      <td>No</td>\n",
       "      <td>No</td>\n",
       "      <td>Yes</td>\n",
       "      <td>No</td>\n",
       "      <td>No</td>\n",
       "      <td>Data missing</td>\n",
       "      <td>Positive</td>\n",
       "      <td>No</td>\n",
       "      <td>50-59</td>\n",
       "    </tr>\n",
       "    <tr>\n",
       "      <th>0b5948</th>\n",
       "      <td>Male</td>\n",
       "      <td>Inpatient</td>\n",
       "      <td>17-04-2020</td>\n",
       "      <td>10/4/2020</td>\n",
       "      <td>9999-99-99</td>\n",
       "      <td>No</td>\n",
       "      <td>Yes</td>\n",
       "      <td>30</td>\n",
       "      <td>Data missing</td>\n",
       "      <td>No</td>\n",
       "      <td>...</td>\n",
       "      <td>No</td>\n",
       "      <td>No</td>\n",
       "      <td>No</td>\n",
       "      <td>No</td>\n",
       "      <td>No</td>\n",
       "      <td>No</td>\n",
       "      <td>Data missing</td>\n",
       "      <td>Positive</td>\n",
       "      <td>No</td>\n",
       "      <td>30-39</td>\n",
       "    </tr>\n",
       "    <tr>\n",
       "      <th>0d01b5</th>\n",
       "      <td>Female</td>\n",
       "      <td>Inpatient</td>\n",
       "      <td>13-04-2020</td>\n",
       "      <td>13-04-2020</td>\n",
       "      <td>22-04-2020</td>\n",
       "      <td>No</td>\n",
       "      <td>No</td>\n",
       "      <td>60</td>\n",
       "      <td>No</td>\n",
       "      <td>Yes</td>\n",
       "      <td>...</td>\n",
       "      <td>Yes</td>\n",
       "      <td>No</td>\n",
       "      <td>Yes</td>\n",
       "      <td>No</td>\n",
       "      <td>No</td>\n",
       "      <td>No</td>\n",
       "      <td>Data missing</td>\n",
       "      <td>Positive</td>\n",
       "      <td>No</td>\n",
       "      <td>60-69</td>\n",
       "    </tr>\n",
       "  </tbody>\n",
       "</table>\n",
       "<p>5 rows × 23 columns</p>\n",
       "</div>"
      ],
      "text/plain": [
       "           sex patient_type  entry_date date_symptoms   date_died  \\\n",
       "id                                                                  \n",
       "16169f    Male   Outpatient    4/5/2020      2/5/2020  9999-99-99   \n",
       "1009bf    Male   Outpatient  19-03-2020    17-03-2020  9999-99-99   \n",
       "167386  Female    Inpatient    6/4/2020      1/4/2020  9999-99-99   \n",
       "0b5948    Male    Inpatient  17-04-2020     10/4/2020  9999-99-99   \n",
       "0d01b5  Female    Inpatient  13-04-2020    13-04-2020  22-04-2020   \n",
       "\n",
       "                  intubed pneumonia  age     pregnancy diabetes  ...  \\\n",
       "id                                                               ...   \n",
       "16169f  Data Data missing        No   27  Data missing       No  ...   \n",
       "1009bf       Data missing        No   24  Data missing       No  ...   \n",
       "167386                 No        No   54            No       No  ...   \n",
       "0b5948                 No       Yes   30  Data missing       No  ...   \n",
       "0d01b5                 No        No   60            No      Yes  ...   \n",
       "\n",
       "       hypertension other_disease cardiovascular obesity renal_chronic  \\\n",
       "id                                                                       \n",
       "16169f           No            No             No      No            No   \n",
       "1009bf           No            No             No      No            No   \n",
       "167386           No            No             No     Yes            No   \n",
       "0b5948           No            No             No      No            No   \n",
       "0d01b5          Yes            No            Yes      No            No   \n",
       "\n",
       "       tobacco contact_other_covid covid_res           icu age_group  \n",
       "id                                                                    \n",
       "16169f      No                  No  Positive  Data missing     20-29  \n",
       "1009bf      No        Data missing  Positive  Data missing     20-29  \n",
       "167386      No        Data missing  Positive            No     50-59  \n",
       "0b5948      No        Data missing  Positive            No     30-39  \n",
       "0d01b5      No        Data missing  Positive            No     60-69  \n",
       "\n",
       "[5 rows x 23 columns]"
      ]
     },
     "execution_count": 2,
     "metadata": {},
     "output_type": "execute_result"
    }
   ],
   "source": [
    "#Q1\n",
    "covid = pd.read_csv('covid.csv', index_col=0)\n",
    "covid.head()"
   ]
  },
  {
   "cell_type": "code",
   "execution_count": 4,
   "id": "83a8ffa6",
   "metadata": {},
   "outputs": [
    {
     "data": {
      "text/plain": [
       "age_group  sex   \n",
       "20-29      Female    14378\n",
       "           Male      14751\n",
       "30-39      Female    22940\n",
       "           Male      26083\n",
       "40-49      Female    22556\n",
       "           Male      27216\n",
       "50-59      Female    17837\n",
       "           Male      23531\n",
       "60-69      Female    10625\n",
       "           Male      14905\n",
       "70-79      Female     5464\n",
       "           Male       7731\n",
       "< 20       Female     3420\n",
       "           Male       3415\n",
       ">= 80      Female     2638\n",
       "           Male       3167\n",
       "dtype: int64"
      ]
     },
     "execution_count": 4,
     "metadata": {},
     "output_type": "execute_result"
    }
   ],
   "source": [
    "covid_pos = covid[covid['covid_res'] == 'Positive']\n",
    "covid_pos.groupby(['age_group', 'sex']).size()"
   ]
  },
  {
   "cell_type": "code",
   "execution_count": 5,
   "id": "f952cd13",
   "metadata": {},
   "outputs": [
    {
     "name": "stderr",
     "output_type": "stream",
     "text": [
      "/var/folders/gt/ndv7xrg17c95c6s42ycl5ch40000gn/T/ipykernel_2349/2426626250.py:2: SettingWithCopyWarning: \n",
      "A value is trying to be set on a copy of a slice from a DataFrame.\n",
      "Try using .loc[row_indexer,col_indexer] = value instead\n",
      "\n",
      "See the caveats in the documentation: https://pandas.pydata.org/pandas-docs/stable/user_guide/indexing.html#returning-a-view-versus-a-copy\n",
      "  covid_pos['entry_date'] = pd.to_datetime(covid_pos['entry_date'], dayfirst=True)\n"
     ]
    },
    {
     "data": {
      "text/plain": [
       "<AxesSubplot:ylabel='sex'>"
      ]
     },
     "execution_count": 5,
     "metadata": {},
     "output_type": "execute_result"
    },
    {
     "data": {
      "image/png": "[encoded data removed]",
      "text/plain": [
       "<Figure size 432x288 with 1 Axes>"
      ]
     },
     "metadata": {
      "needs_background": "light"
     },
     "output_type": "display_data"
    }
   ],
   "source": [
    "#q2\n",
    "covid_pos['entry_date'] = pd.to_datetime(covid_pos['entry_date'], dayfirst=True)\n",
    "pd.crosstab(covid_pos['sex'], covid_pos['icu']).plot.barh(stacked=True)"
   ]
  },
  {
   "cell_type": "code",
   "execution_count": 6,
   "id": "818eb93f",
   "metadata": {},
   "outputs": [
    {
     "name": "stderr",
     "output_type": "stream",
     "text": [
      "/var/folders/gt/ndv7xrg17c95c6s42ycl5ch40000gn/T/ipykernel_2349/3502401942.py:3: SettingWithCopyWarning: \n",
      "A value is trying to be set on a copy of a slice from a DataFrame.\n",
      "Try using .loc[row_indexer,col_indexer] = value instead\n",
      "\n",
      "See the caveats in the documentation: https://pandas.pydata.org/pandas-docs/stable/user_guide/indexing.html#returning-a-view-versus-a-copy\n",
      "  covid_pos_die['date_died'] = pd.to_datetime(covid_pos_die['date_died'], dayfirst=True)\n"
     ]
    },
    {
     "data": {
      "text/plain": [
       "dtype('<M8[ns]')"
      ]
     },
     "execution_count": 6,
     "metadata": {},
     "output_type": "execute_result"
    }
   ],
   "source": [
    "#Q3\n",
    "covid_pos_die = covid_pos[covid_pos['date_died'] != '9999-99-99']\n",
    "covid_pos_die['date_died'] = pd.to_datetime(covid_pos_die['date_died'], dayfirst=True)\n",
    "covid_pos_die['date_died'].dtype"
   ]
  },
  {
   "cell_type": "code",
   "execution_count": 8,
   "id": "8c1348b9",
   "metadata": {},
   "outputs": [
    {
     "data": {
      "text/plain": [
       "<matplotlib.legend.Legend at 0x7facc012e6a0>"
      ]
     },
     "execution_count": 8,
     "metadata": {},
     "output_type": "execute_result"
    },
    {
     "data": {
      "image/png": "[encoded data removed]",
      "text/plain": [
       "<Figure size 432x288 with 1 Axes>"
      ]
     },
     "metadata": {
      "needs_background": "light"
     },
     "output_type": "display_data"
    }
   ],
   "source": [
    "dieByDate = covid_pos_die.groupby(covid_pos_die['date_died'].dt.date).size()\n",
    "cx1 = dieByDate.plot(label='Death', rot=90)\n",
    "confirmByDate = covid_pos.groupby(covid_pos['entry_date'].dt.date).size()\n",
    "cx2 = confirmByDate.plot(label='Confirmed', rot=90)\n",
    "plt.xlabel('Date')\n",
    "plt.title('Daily Confirmed Cases Vs. Daily Deaths')\n",
    "plt.legend()"
   ]
  },
  {
   "cell_type": "code",
   "execution_count": 9,
   "id": "0d3f1ad2",
   "metadata": {},
   "outputs": [
    {
     "data": {
      "text/plain": [
       "Text(0.5, 1.0, 'Daily Death')"
      ]
     },
     "execution_count": 9,
     "metadata": {},
     "output_type": "execute_result"
    },
    {
     "data": {
      "image/png": "[encoded data removed]",
      "text/plain": [
       "<Figure size 1440x1080 with 1 Axes>"
      ]
     },
     "metadata": {
      "needs_background": "light"
     },
     "output_type": "display_data"
    }
   ],
   "source": [
    "#q4\n",
    "cx = dieByDate.plot.bar(figsize=(20, 15))\n",
    "cx.set_xlabel('Date', size=12)\n",
    "cx.set_title('Daily Death', size=15)"
   ]
  },
  {
   "cell_type": "code",
   "execution_count": 10,
   "id": "c62bac02",
   "metadata": {},
   "outputs": [
    {
     "data": {
      "image/png": "[encoded data removed]",
      "text/plain": [
       "<Figure size 720x432 with 4 Axes>"
      ]
     },
     "metadata": {
      "needs_background": "light"
     },
     "output_type": "display_data"
    }
   ],
   "source": [
    "#Q5\n",
    "import seaborn as sns\n",
    "sex_ageGroup_ct = pd.crosstab(covid_pos['sex'], covid_pos['age_group'])\n",
    "sex_ageGroup_die_ct = pd.crosstab(covid_pos_die['sex'], covid_pos_die['age_group'])\n",
    "fig,axes = plt.subplots(1,2, figsize = (10,6))\n",
    "ax1 = sns.heatmap(sex_ageGroup_die_ct, cmap='YlGnBu',ax = axes[0])\n",
    "ax2 = sns.heatmap(sex_ageGroup_ct,cmap='YlGnBu',ax = axes[1])"
   ]
  },
  {
   "cell_type": "code",
   "execution_count": 11,
   "id": "53de8937",
   "metadata": {},
   "outputs": [],
   "source": [
    "#q6\n",
    "covid_60above = covid_pos[covid_pos['age'] >= 60]\n",
    "covid_60below = covid_pos[covid_pos['age'] < 60]\n",
    "group_60above = covid_60above.groupby(covid_60above['entry_date'].dt.date).size()\n",
    "group_60below = covid_60below.groupby(covid_60below['entry_date'].dt.date).size()"
   ]
  },
  {
   "cell_type": "code",
   "execution_count": 12,
   "id": "ecc61ca0",
   "metadata": {},
   "outputs": [
    {
     "data": {
      "text/plain": [
       "<matplotlib.legend.Legend at 0x7fad0369bb20>"
      ]
     },
     "execution_count": 12,
     "metadata": {},
     "output_type": "execute_result"
    },
    {
     "data": {
      "image/png": "[encoded data removed]",
      "text/plain": [
       "<Figure size 432x288 with 1 Axes>"
      ]
     },
     "metadata": {
      "needs_background": "light"
     },
     "output_type": "display_data"
    }
   ],
   "source": [
    "fig = plt.figure()\n",
    "group_60above.plot(label='60 year old or above')\n",
    "group_60below.plot(label='Younger than 60')\n",
    "plt.title('Daily Confirmed Cases')\n",
    "plt.xlabel('Date')\n",
    "plt.legend()"
   ]
  },
  {
   "cell_type": "code",
   "execution_count": 14,
   "id": "56117093",
   "metadata": {},
   "outputs": [],
   "source": [
    "#q7\n",
    "covid_pos_alive = covid_pos[covid_pos['date_died'] == '9999-99-99']\n",
    "ageGroup_diabetes_die = pd.crosstab(covid_pos_die['age_group'], covid_pos_die['diabetes'])\n",
    "ageGroup_diabetes_alive = pd.crosstab(covid_pos_alive['age_group'], covid_pos_alive['diabetes'])\n",
    "ageGroup_hypertension_alive = pd.crosstab(covid_pos_alive['age_group'], covid_pos_alive['hypertension'])\n",
    "ageGroup_hypertension_die = pd.crosstab(covid_pos_die['age_group'], covid_pos_die['hypertension'])\n",
    "ageGroup_cardiovascular_alive = pd.crosstab(covid_pos_alive['age_group'], covid_pos_alive['cardiovascular'])\n",
    "ageGroup_cardiovascular_die = pd.crosstab(covid_pos_die['age_group'], covid_pos_die['cardiovascular'])"
   ]
  },
  {
   "cell_type": "code",
   "execution_count": 15,
   "id": "cebcb57f",
   "metadata": {},
   "outputs": [
    {
     "data": {
      "text/plain": [
       "Text(0, 0.5, 'Age Group')"
      ]
     },
     "execution_count": 15,
     "metadata": {},
     "output_type": "execute_result"
    },
    {
     "data": {
      "image/png": "[encoded data removed]",
      "text/plain": [
       "<Figure size 1080x1080 with 6 Axes>"
      ]
     },
     "metadata": {
      "needs_background": "light"
     },
     "output_type": "display_data"
    }
   ],
   "source": [
    "fig, axes = plt.subplots(3, 2, figsize=(15, 15))\n",
    "#how many percent of the chart for spacing\n",
    "#plt.subplots_adjust(wspace=0.5, hspace=0.5) \n",
    "ageGroup_diabetes_die.plot.barh(stacked=True, ax=axes[0,0])\n",
    "ageGroup_diabetes_alive.plot.barh(stacked=True, ax=axes[0,1])\n",
    "ageGroup_hypertension_die.plot.barh(stacked=True, ax=axes[1, 0])\n",
    "ageGroup_hypertension_alive.plot.barh(stacked=True, ax=axes[1, 1])\n",
    "ageGroup_cardiovascular_die.plot.barh(stacked=True, ax=axes[2,0])\n",
    "ageGroup_cardiovascular_alive.plot.barh(stacked=True, ax=axes[2, 1])\n",
    "axes[0,0].set_title('Covid Deaths')\n",
    "axes[0,1].set_title('Covid Survivals')\n",
    "axes[0,0].set_ylabel('Age Group')\n",
    "axes[0,1].set_ylabel('Age Group')\n",
    "axes[1,0].set_ylabel('Age Group')\n",
    "axes[1,1].set_ylabel('Age Group')\n",
    "axes[2,0].set_ylabel('Age Group')\n",
    "axes[2,1].set_ylabel('Age Group')"
   ]
  },
  {
   "cell_type": "code",
   "execution_count": 20,
   "id": "f83da877",
   "metadata": {},
   "outputs": [
    {
     "name": "stderr",
     "output_type": "stream",
     "text": [
      "/var/folders/gt/ndv7xrg17c95c6s42ycl5ch40000gn/T/ipykernel_2349/4265371818.py:3: SettingWithCopyWarning: \n",
      "A value is trying to be set on a copy of a slice from a DataFrame.\n",
      "Try using .loc[row_indexer,col_indexer] = value instead\n",
      "\n",
      "See the caveats in the documentation: https://pandas.pydata.org/pandas-docs/stable/user_guide/indexing.html#returning-a-view-versus-a-copy\n",
      "  covid_pos_die['date_died'] = pd.to_datetime(covid_pos_die['date_died'], dayfirst=True)\n",
      "/var/folders/gt/ndv7xrg17c95c6s42ycl5ch40000gn/T/ipykernel_2349/4265371818.py:4: SettingWithCopyWarning: \n",
      "A value is trying to be set on a copy of a slice from a DataFrame.\n",
      "Try using .loc[row_indexer,col_indexer] = value instead\n",
      "\n",
      "See the caveats in the documentation: https://pandas.pydata.org/pandas-docs/stable/user_guide/indexing.html#returning-a-view-versus-a-copy\n",
      "  covid_pos_die['days_to_death'] = (covid_pos_die['date_died'].dt.date - covid_pos_die['date_symptoms'].dt.date).dt.days\n"
     ]
    },
    {
     "data": {
      "text/plain": [
       "age_group\n",
       "< 20      9.476190\n",
       ">= 80    10.117121\n",
       "20-29    10.832317\n",
       "70-79    11.211427\n",
       "30-39    11.336957\n",
       "40-49    11.731851\n",
       "60-69    11.838867\n",
       "50-59    11.894976\n",
       "Name: days_to_death, dtype: float64"
      ]
     },
     "execution_count": 20,
     "metadata": {},
     "output_type": "execute_result"
    }
   ],
   "source": [
    "#q8\n",
    "covid_pos_die = covid_pos[covid_pos['date_died'] != '9999-99-99']\n",
    "covid_pos_die['date_died'] = pd.to_datetime(covid_pos_die['date_died'], dayfirst=True)\n",
    "covid_pos_die['days_to_death'] = (covid_pos_die['date_died'].dt.date - covid_pos_die['date_symptoms'].dt.date).dt.days\n",
    "covid_pos_die.groupby('age_group')['days_to_death'].mean().sort_values()"
   ]
  },
  {
   "cell_type": "code",
   "execution_count": 21,
   "id": "15531385",
   "metadata": {},
   "outputs": [
    {
     "data": {
      "text/html": [
       "<div>\n",
       "<style scoped>\n",
       "    .dataframe tbody tr th:only-of-type {\n",
       "        vertical-align: middle;\n",
       "    }\n",
       "\n",
       "    .dataframe tbody tr th {\n",
       "        vertical-align: top;\n",
       "    }\n",
       "\n",
       "    .dataframe thead th {\n",
       "        text-align: right;\n",
       "    }\n",
       "</style>\n",
       "<table border=\"1\" class=\"dataframe\">\n",
       "  <thead>\n",
       "    <tr style=\"text-align: right;\">\n",
       "      <th></th>\n",
       "      <th>Avg. Area Income</th>\n",
       "      <th>Avg. Area House Age</th>\n",
       "      <th>Avg. Area Number of Rooms</th>\n",
       "      <th>Avg. Area Number of Bedrooms</th>\n",
       "      <th>Area Population</th>\n",
       "      <th>Price</th>\n",
       "      <th>Address</th>\n",
       "    </tr>\n",
       "  </thead>\n",
       "  <tbody>\n",
       "    <tr>\n",
       "      <th>0</th>\n",
       "      <td>79545.458574</td>\n",
       "      <td>5.682861</td>\n",
       "      <td>7.009188</td>\n",
       "      <td>4.09</td>\n",
       "      <td>23086.800503</td>\n",
       "      <td>1.059034e+06</td>\n",
       "      <td>208 Michael Ferry Apt. 674\\nLaurabury, NE 3701...</td>\n",
       "    </tr>\n",
       "    <tr>\n",
       "      <th>1</th>\n",
       "      <td>79248.642455</td>\n",
       "      <td>6.002900</td>\n",
       "      <td>6.730821</td>\n",
       "      <td>3.09</td>\n",
       "      <td>40173.072174</td>\n",
       "      <td>1.505891e+06</td>\n",
       "      <td>188 Johnson Views Suite 079\\nLake Kathleen, CA...</td>\n",
       "    </tr>\n",
       "    <tr>\n",
       "      <th>2</th>\n",
       "      <td>61287.067179</td>\n",
       "      <td>5.865890</td>\n",
       "      <td>8.512727</td>\n",
       "      <td>5.13</td>\n",
       "      <td>36882.159400</td>\n",
       "      <td>1.058988e+06</td>\n",
       "      <td>9127 Elizabeth Stravenue\\nDanieltown, WI 06482...</td>\n",
       "    </tr>\n",
       "    <tr>\n",
       "      <th>3</th>\n",
       "      <td>63345.240046</td>\n",
       "      <td>7.188236</td>\n",
       "      <td>5.586729</td>\n",
       "      <td>3.26</td>\n",
       "      <td>34310.242831</td>\n",
       "      <td>1.260617e+06</td>\n",
       "      <td>USS Barnett\\nFPO AP 44820</td>\n",
       "    </tr>\n",
       "    <tr>\n",
       "      <th>4</th>\n",
       "      <td>59982.197226</td>\n",
       "      <td>5.040555</td>\n",
       "      <td>7.839388</td>\n",
       "      <td>4.23</td>\n",
       "      <td>26354.109472</td>\n",
       "      <td>6.309435e+05</td>\n",
       "      <td>USNS Raymond\\nFPO AE 09386</td>\n",
       "    </tr>\n",
       "  </tbody>\n",
       "</table>\n",
       "</div>"
      ],
      "text/plain": [
       "   Avg. Area Income  Avg. Area House Age  Avg. Area Number of Rooms  \\\n",
       "0      79545.458574             5.682861                   7.009188   \n",
       "1      79248.642455             6.002900                   6.730821   \n",
       "2      61287.067179             5.865890                   8.512727   \n",
       "3      63345.240046             7.188236                   5.586729   \n",
       "4      59982.197226             5.040555                   7.839388   \n",
       "\n",
       "   Avg. Area Number of Bedrooms  Area Population         Price  \\\n",
       "0                          4.09     23086.800503  1.059034e+06   \n",
       "1                          3.09     40173.072174  1.505891e+06   \n",
       "2                          5.13     36882.159400  1.058988e+06   \n",
       "3                          3.26     34310.242831  1.260617e+06   \n",
       "4                          4.23     26354.109472  6.309435e+05   \n",
       "\n",
       "                                             Address  \n",
       "0  208 Michael Ferry Apt. 674\\nLaurabury, NE 3701...  \n",
       "1  188 Johnson Views Suite 079\\nLake Kathleen, CA...  \n",
       "2  9127 Elizabeth Stravenue\\nDanieltown, WI 06482...  \n",
       "3                          USS Barnett\\nFPO AP 44820  \n",
       "4                         USNS Raymond\\nFPO AE 09386  "
      ]
     },
     "execution_count": 21,
     "metadata": {},
     "output_type": "execute_result"
    }
   ],
   "source": [
    "#Q9\n",
    "usahousing = pd.read_csv(('USA_Housing.csv'))\n",
    "usahousing.head()"
   ]
  },
  {
   "cell_type": "code",
   "execution_count": 22,
   "id": "20dbe7e5",
   "metadata": {},
   "outputs": [
    {
     "data": {
      "text/plain": [
       "array([[  68327.52068834, 1221596.7237848 ],\n",
       "       [  76810.08132525, 1655612.64948534],\n",
       "       [  60079.23348665,  789492.3552742 ]])"
      ]
     },
     "execution_count": 22,
     "metadata": {},
     "output_type": "execute_result"
    }
   ],
   "source": [
    "from sklearn.cluster import KMeans\n",
    "data = usahousing[['Avg. Area Income', 'Price']]\n",
    "kmean = KMeans(n_clusters = 3, random_state = 0).fit(usahousing[['Avg. Area Income', 'Price']])\n",
    "kmean.cluster_centers_"
   ]
  },
  {
   "cell_type": "code",
   "execution_count": 23,
   "id": "ad49c953",
   "metadata": {},
   "outputs": [
    {
     "data": {
      "text/plain": [
       "array([0, 1, 0, ..., 0, 0, 0], dtype=int32)"
      ]
     },
     "execution_count": 23,
     "metadata": {},
     "output_type": "execute_result"
    }
   ],
   "source": [
    "kmean.labels_"
   ]
  },
  {
   "cell_type": "code",
   "execution_count": 24,
   "id": "75ebdc53",
   "metadata": {},
   "outputs": [
    {
     "data": {
      "text/html": [
       "<div>\n",
       "<style scoped>\n",
       "    .dataframe tbody tr th:only-of-type {\n",
       "        vertical-align: middle;\n",
       "    }\n",
       "\n",
       "    .dataframe tbody tr th {\n",
       "        vertical-align: top;\n",
       "    }\n",
       "\n",
       "    .dataframe thead th {\n",
       "        text-align: right;\n",
       "    }\n",
       "</style>\n",
       "<table border=\"1\" class=\"dataframe\">\n",
       "  <thead>\n",
       "    <tr style=\"text-align: right;\">\n",
       "      <th></th>\n",
       "      <th>Avg. Area Income</th>\n",
       "      <th>Avg. Area House Age</th>\n",
       "      <th>Avg. Area Number of Rooms</th>\n",
       "      <th>Avg. Area Number of Bedrooms</th>\n",
       "      <th>Area Population</th>\n",
       "      <th>Price</th>\n",
       "      <th>Address</th>\n",
       "      <th>Area Class</th>\n",
       "    </tr>\n",
       "  </thead>\n",
       "  <tbody>\n",
       "    <tr>\n",
       "      <th>0</th>\n",
       "      <td>79545.458574</td>\n",
       "      <td>5.682861</td>\n",
       "      <td>7.009188</td>\n",
       "      <td>4.09</td>\n",
       "      <td>23086.800503</td>\n",
       "      <td>1.059034e+06</td>\n",
       "      <td>208 Michael Ferry Apt. 674\\nLaurabury, NE 3701...</td>\n",
       "      <td>Higher Middle Class Area</td>\n",
       "    </tr>\n",
       "    <tr>\n",
       "      <th>1</th>\n",
       "      <td>79248.642455</td>\n",
       "      <td>6.002900</td>\n",
       "      <td>6.730821</td>\n",
       "      <td>3.09</td>\n",
       "      <td>40173.072174</td>\n",
       "      <td>1.505891e+06</td>\n",
       "      <td>188 Johnson Views Suite 079\\nLake Kathleen, CA...</td>\n",
       "      <td>Rich Area</td>\n",
       "    </tr>\n",
       "    <tr>\n",
       "      <th>2</th>\n",
       "      <td>61287.067179</td>\n",
       "      <td>5.865890</td>\n",
       "      <td>8.512727</td>\n",
       "      <td>5.13</td>\n",
       "      <td>36882.159400</td>\n",
       "      <td>1.058988e+06</td>\n",
       "      <td>9127 Elizabeth Stravenue\\nDanieltown, WI 06482...</td>\n",
       "      <td>Higher Middle Class Area</td>\n",
       "    </tr>\n",
       "    <tr>\n",
       "      <th>3</th>\n",
       "      <td>63345.240046</td>\n",
       "      <td>7.188236</td>\n",
       "      <td>5.586729</td>\n",
       "      <td>3.26</td>\n",
       "      <td>34310.242831</td>\n",
       "      <td>1.260617e+06</td>\n",
       "      <td>USS Barnett\\nFPO AP 44820</td>\n",
       "      <td>Higher Middle Class Area</td>\n",
       "    </tr>\n",
       "    <tr>\n",
       "      <th>4</th>\n",
       "      <td>59982.197226</td>\n",
       "      <td>5.040555</td>\n",
       "      <td>7.839388</td>\n",
       "      <td>4.23</td>\n",
       "      <td>26354.109472</td>\n",
       "      <td>6.309435e+05</td>\n",
       "      <td>USNS Raymond\\nFPO AE 09386</td>\n",
       "      <td>Lower Middle Class Area</td>\n",
       "    </tr>\n",
       "  </tbody>\n",
       "</table>\n",
       "</div>"
      ],
      "text/plain": [
       "   Avg. Area Income  Avg. Area House Age  Avg. Area Number of Rooms  \\\n",
       "0      79545.458574             5.682861                   7.009188   \n",
       "1      79248.642455             6.002900                   6.730821   \n",
       "2      61287.067179             5.865890                   8.512727   \n",
       "3      63345.240046             7.188236                   5.586729   \n",
       "4      59982.197226             5.040555                   7.839388   \n",
       "\n",
       "   Avg. Area Number of Bedrooms  Area Population         Price  \\\n",
       "0                          4.09     23086.800503  1.059034e+06   \n",
       "1                          3.09     40173.072174  1.505891e+06   \n",
       "2                          5.13     36882.159400  1.058988e+06   \n",
       "3                          3.26     34310.242831  1.260617e+06   \n",
       "4                          4.23     26354.109472  6.309435e+05   \n",
       "\n",
       "                                             Address                Area Class  \n",
       "0  208 Michael Ferry Apt. 674\\nLaurabury, NE 3701...  Higher Middle Class Area  \n",
       "1  188 Johnson Views Suite 079\\nLake Kathleen, CA...                 Rich Area  \n",
       "2  9127 Elizabeth Stravenue\\nDanieltown, WI 06482...  Higher Middle Class Area  \n",
       "3                          USS Barnett\\nFPO AP 44820  Higher Middle Class Area  \n",
       "4                         USNS Raymond\\nFPO AE 09386   Lower Middle Class Area  "
      ]
     },
     "execution_count": 24,
     "metadata": {},
     "output_type": "execute_result"
    }
   ],
   "source": [
    "labels = list(kmean.labels_)\n",
    "for index in range(len(labels)):\n",
    "    if labels[index] == 0:\n",
    "        labels[index] = 'Higher Middle Class Area'\n",
    "    elif labels[index] == 1:\n",
    "        labels[index] = 'Rich Area'\n",
    "    else:\n",
    "        labels[index] = 'Lower Middle Class Area'\n",
    "usahousing['Area Class'] = labels\n",
    "usahousing.head()"
   ]
  },
  {
   "cell_type": "code",
   "execution_count": null,
   "id": "8b2902f0",
   "metadata": {},
   "outputs": [],
   "source": []
  }
 ],
 "metadata": {
  "kernelspec": {
   "display_name": "Python 3 (ipykernel)",
   "language": "python",
   "name": "python3"
  },
  "language_info": {
   "codemirror_mode": {
    "name": "ipython",
    "version": 3
   },
   "file_extension": ".py",
   "mimetype": "text/x-python",
   "name": "python",
   "nbconvert_exporter": "python",
   "pygments_lexer": "ipython3",
   "version": "3.9.7"
  }
 },
 "nbformat": 4,
 "nbformat_minor": 5
}
